{
 "cells": [
  {
   "cell_type": "code",
   "execution_count": 1,
   "metadata": {},
   "outputs": [
    {
     "name": "stdout",
     "output_type": "stream",
     "text": [
      "Collecting nltk\n",
      "  Downloading nltk-3.8.1-py3-none-any.whl.metadata (2.8 kB)\n",
      "Requirement already satisfied: click in c:\\users\\shubh\\appdata\\local\\programs\\python\\python310\\lib\\site-packages (from nltk) (8.1.3)\n",
      "Requirement already satisfied: joblib in c:\\users\\shubh\\appdata\\local\\programs\\python\\python310\\lib\\site-packages (from nltk) (1.3.1)\n",
      "Requirement already satisfied: regex>=2021.8.3 in c:\\users\\shubh\\appdata\\local\\programs\\python\\python310\\lib\\site-packages (from nltk) (2024.4.16)\n",
      "Requirement already satisfied: tqdm in c:\\users\\shubh\\appdata\\local\\programs\\python\\python310\\lib\\site-packages (from nltk) (4.66.2)\n",
      "Requirement already satisfied: colorama in c:\\users\\shubh\\appdata\\local\\programs\\python\\python310\\lib\\site-packages (from click->nltk) (0.4.4)\n",
      "Downloading nltk-3.8.1-py3-none-any.whl (1.5 MB)\n",
      "   ---------------------------------------- 0.0/1.5 MB ? eta -:--:--\n",
      "   ----------- ---------------------------- 0.4/1.5 MB 13.2 MB/s eta 0:00:01\n",
      "   ------------------------------------- -- 1.4/1.5 MB 18.2 MB/s eta 0:00:01\n",
      "   ---------------------------------------- 1.5/1.5 MB 13.8 MB/s eta 0:00:00\n",
      "Installing collected packages: nltk\n",
      "Successfully installed nltk-3.8.1\n"
     ]
    }
   ],
   "source": [
    "!pip install nltk"
   ]
  },
  {
   "cell_type": "code",
   "execution_count": 3,
   "metadata": {},
   "outputs": [
    {
     "name": "stderr",
     "output_type": "stream",
     "text": [
      "[nltk_data] Downloading package punkt to\n",
      "[nltk_data]     C:\\Users\\shubh\\AppData\\Roaming\\nltk_data...\n",
      "[nltk_data]   Package punkt is already up-to-date!\n",
      "[nltk_data] Downloading package stopwords to\n",
      "[nltk_data]     C:\\Users\\shubh\\AppData\\Roaming\\nltk_data...\n",
      "[nltk_data]   Package stopwords is already up-to-date!\n",
      "[nltk_data] Downloading package wordnet to\n",
      "[nltk_data]     C:\\Users\\shubh\\AppData\\Roaming\\nltk_data...\n",
      "[nltk_data]   Package wordnet is already up-to-date!\n",
      "[nltk_data] Downloading package averaged_perceptron_tagger to\n",
      "[nltk_data]     C:\\Users\\shubh\\AppData\\Roaming\\nltk_data...\n",
      "[nltk_data]   Package averaged_perceptron_tagger is already up-to-\n",
      "[nltk_data]       date!\n",
      "[nltk_data] Downloading package omw-1.4 to\n",
      "[nltk_data]     C:\\Users\\shubh\\AppData\\Roaming\\nltk_data...\n",
      "[nltk_data]   Package omw-1.4 is already up-to-date!\n"
     ]
    },
    {
     "data": {
      "text/plain": [
       "True"
      ]
     },
     "execution_count": 3,
     "metadata": {},
     "output_type": "execute_result"
    }
   ],
   "source": [
    "import nltk\n",
    "import re\n",
    "nltk.download('punkt')\n",
    "nltk.download('stopwords')\n",
    "nltk.download('wordnet')\n",
    "nltk.download('averaged_perceptron_tagger')\n",
    "nltk.download('omw-1.4')\n"
   ]
  },
  {
   "cell_type": "code",
   "execution_count": 4,
   "metadata": {},
   "outputs": [],
   "source": [
    "text = \"Tokenization is the first step in text analytics.\""
   ]
  },
  {
   "cell_type": "code",
   "execution_count": 5,
   "metadata": {},
   "outputs": [
    {
     "name": "stdout",
     "output_type": "stream",
     "text": [
      "['Tokenization is the first step in text analytics.']\n"
     ]
    }
   ],
   "source": [
    "from nltk.tokenize import sent_tokenize\n",
    "tokenized_text = sent_tokenize(text)\n",
    "print(tokenized_text)"
   ]
  },
  {
   "cell_type": "code",
   "execution_count": 6,
   "metadata": {},
   "outputs": [
    {
     "name": "stdout",
     "output_type": "stream",
     "text": [
      "['Tokenization', 'is', 'the', 'first', 'step', 'in', 'text', 'analytics', '.']\n"
     ]
    }
   ],
   "source": [
    "from nltk.tokenize import word_tokenize\n",
    "tokenized_word = word_tokenize(text)\n",
    "print(tokenized_word)"
   ]
  },
  {
   "cell_type": "code",
   "execution_count": 7,
   "metadata": {},
   "outputs": [
    {
     "name": "stdout",
     "output_type": "stream",
     "text": [
      "{\"haven't\", \"isn't\", 'yourselves', 'through', 'aren', 'whom', 'out', 'itself', 'into', 'will', 'couldn', 'being', 'we', 'my', 'are', 'yours', 'below', 'very', 'd', \"doesn't\", 'who', 'this', 'because', 'during', 'don', \"shan't\", 'does', 'at', 'with', 'did', 'is', 'hadn', 'were', 'him', 'been', 'own', 'more', 'll', \"didn't\", 'be', \"you've\", 'can', 'up', 'after', \"should've\", 'how', 'other', 'when', 'm', 'as', \"she's\", 'off', \"you'd\", 'was', 'why', 'ain', 're', 'am', 'ourselves', 'of', 'his', 'from', 'the', 'some', 's', 'shan', 'their', \"aren't\", \"you'll\", 'you', \"wouldn't\", 'here', 'same', 'not', 'between', 'o', \"don't\", 'her', 'those', 'ours', 'has', 'that', 'he', 'only', 'do', 'above', 'nor', \"hadn't\", 'no', 'myself', 'theirs', 'weren', 'by', 'ma', \"mustn't\", 'again', 'now', 'where', 'didn', 'just', 'mightn', 'isn', \"couldn't\", 'each', 've', 'to', 'wasn', 'i', 'any', 'few', 'over', 'in', 'then', 'under', 'a', 'both', 'them', 'there', 'me', \"needn't\", 'such', 'won', 'have', \"wasn't\", 'doesn', 'its', 'y', 'what', 'hers', 'against', 'which', \"shouldn't\", \"hasn't\", 'she', \"won't\", 'needn', 'than', 'and', 'about', 'doing', 'themselves', 'down', 'most', 'further', 'shouldn', 'once', \"that'll\", 'your', 'himself', 'too', 't', \"mightn't\", 'so', 'mustn', \"weren't\", 'our', 'yourself', 'hasn', 'herself', 'until', 'or', 'on', 'wouldn', 'but', 'all', 'having', 'if', 'it', 'should', 'before', \"you're\", 'while', 'haven', 'had', 'an', \"it's\", 'they', 'these', 'for'}\n"
     ]
    }
   ],
   "source": [
    "from nltk.corpus import stopwords\n",
    "stop_words = set(stopwords.words(\"english\"))\n",
    "print(stop_words)"
   ]
  },
  {
   "cell_type": "code",
   "execution_count": 8,
   "metadata": {},
   "outputs": [
    {
     "name": "stdout",
     "output_type": "stream",
     "text": [
      "Tokenized Sentence : ['how', 'to', 'remove', 'stop', 'words', 'with', 'nltk', 'library', 'in', 'python']\n",
      "Filtered Sentence : ['remove', 'stop', 'words', 'nltk', 'library', 'python']\n"
     ]
    }
   ],
   "source": [
    "text = \"How to remove stop words with NLTK library in Python?\"\n",
    "text = re.sub('[^a-zA-Z]',' ',text)\n",
    "tokens = word_tokenize(text.lower())\n",
    "filtered_text = []\n",
    "\n",
    "for w in tokens:\n",
    "    if w not in stop_words:\n",
    "        filtered_text.append(w)\n",
    "\n",
    "print(\"Tokenized Sentence :\",tokens)\n",
    "print(\"Filtered Sentence :\",filtered_text)"
   ]
  },
  {
   "cell_type": "code",
   "execution_count": 9,
   "metadata": {},
   "outputs": [
    {
     "name": "stdout",
     "output_type": "stream",
     "text": [
      "wait\n"
     ]
    }
   ],
   "source": [
    "from nltk.stem import PorterStemmer\n",
    "e_words = [\"wait\", \"waiting\", \"waited\", \"waits\"]\n",
    "ps = PorterStemmer()\n",
    "for w in e_words:\n",
    "    rootWord = ps.stem(w)\n",
    "print(rootWord)"
   ]
  },
  {
   "cell_type": "code",
   "execution_count": 10,
   "metadata": {},
   "outputs": [
    {
     "name": "stdout",
     "output_type": "stream",
     "text": [
      "Lemma for studies is study\n",
      "Lemma for studying is studying\n",
      "Lemma for cries is cry\n",
      "Lemma for cry is cry\n"
     ]
    }
   ],
   "source": [
    "from nltk.stem import WordNetLemmatizer\n",
    "wordnet_lemmatizer = WordNetLemmatizer()\n",
    "text = \"studies studying cries cry\"\n",
    "tokenization = nltk.word_tokenize(text)\n",
    "for w in tokenization:\n",
    "    print(\"Lemma for {} is {}\".format(w, wordnet_lemmatizer.lemmatize(w)))"
   ]
  },
  {
   "cell_type": "code",
   "execution_count": 11,
   "metadata": {},
   "outputs": [
    {
     "name": "stdout",
     "output_type": "stream",
     "text": [
      "[('The', 'DT')]\n",
      "[('pink', 'NN')]\n",
      "[('sweater', 'NN')]\n",
      "[('fit', 'NN')]\n",
      "[('her', 'PRP$')]\n",
      "[('perfectly', 'RB')]\n"
     ]
    }
   ],
   "source": [
    "from nltk.tokenize import word_tokenize\n",
    "data = \"The pink sweater fit her perfectly\"\n",
    "words = word_tokenize(data)\n",
    "for word in words:\n",
    "    print(nltk.pos_tag([word]))"
   ]
  },
  {
   "cell_type": "code",
   "execution_count": 12,
   "metadata": {},
   "outputs": [
    {
     "name": "stdout",
     "output_type": "stream",
     "text": [
      "Word indices: {'jupiter': 3, 'is': 2, 'the': 8, 'largest': 4, 'planet': 6, 'mars': 5, 'fourth': 0, 'from': 1, 'sun': 7}\n",
      "TF-IDF Values:   (0, 6)\t0.3793034928087496\n",
      "  (0, 4)\t0.5330978245262535\n",
      "  (0, 8)\t0.3793034928087496\n",
      "  (0, 2)\t0.3793034928087496\n",
      "  (0, 3)\t0.5330978245262535\n",
      "  (1, 7)\t0.37695708675831013\n",
      "  (1, 1)\t0.37695708675831013\n",
      "  (1, 0)\t0.37695708675831013\n",
      "  (1, 5)\t0.37695708675831013\n",
      "  (1, 6)\t0.2682080718928097\n",
      "  (1, 8)\t0.5364161437856194\n",
      "  (1, 2)\t0.2682080718928097\n"
     ]
    }
   ],
   "source": [
    "import pandas as pd\n",
    "from sklearn.feature_extraction.text import TfidfVectorizer\n",
    "\n",
    "d0 = 'Jupiter is the largest Planet'\n",
    "d1 = 'Mars is the fourth planet from the sun'\n",
    "string = [d0,d1]\n",
    "tfidf = TfidfVectorizer()\n",
    "result = tfidf.fit_transform(string)\n",
    "print('Word indices:', tfidf.vocabulary_)\n",
    "print('TF-IDF Values:', result)"
   ]
  },
  {
   "cell_type": "code",
   "execution_count": null,
   "metadata": {},
   "outputs": [],
   "source": []
  },
  {
   "cell_type": "code",
   "execution_count": null,
   "metadata": {},
   "outputs": [],
   "source": []
  }
 ],
 "metadata": {
  "kernelspec": {
   "display_name": "Python 3",
   "language": "python",
   "name": "python3"
  },
  "language_info": {
   "codemirror_mode": {
    "name": "ipython",
    "version": 3
   },
   "file_extension": ".py",
   "mimetype": "text/x-python",
   "name": "python",
   "nbconvert_exporter": "python",
   "pygments_lexer": "ipython3",
   "version": "3.10.7"
  }
 },
 "nbformat": 4,
 "nbformat_minor": 2
}
